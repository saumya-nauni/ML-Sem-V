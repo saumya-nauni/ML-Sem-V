{
  "nbformat": 4,
  "nbformat_minor": 0,
  "metadata": {
    "colab": {
      "name": "Experiment_1_.ipynb",
      "provenance": [],
      "authorship_tag": "ABX9TyNrxnxjHsehJr6AazKA5NB4",
      "include_colab_link": true
    },
    "kernelspec": {
      "name": "python3",
      "display_name": "Python 3"
    }
  },
  "cells": [
    {
      "cell_type": "markdown",
      "metadata": {
        "id": "view-in-github",
        "colab_type": "text"
      },
      "source": [
        "<a href=\"https://colab.research.google.com/github/saumya-nauni/ML-Sem-V/blob/master/Lab/Experiment%201/Exercise_1.ipynb\" target=\"_parent\"><img src=\"https://colab.research.google.com/assets/colab-badge.svg\" alt=\"Open In Colab\"/></a>"
      ]
    },
    {
      "cell_type": "markdown",
      "metadata": {
        "id": "wxZtOIibGLg5",
        "colab_type": "text"
      },
      "source": [
        "# **EXPERIMENT 1**\n",
        "\n",
        "**Aim:** Exploring variables in a dataset\n",
        "\n",
        "**Objectives:**\n",
        "1.\tExploring Variables in a Dataset\n",
        "2.\tLearn how to open and examine a dataset.\n",
        "3.\tPractice classifying variables by their type: quantitative or categorical.\n",
        "4.\tLearn how to handle categorical variables whose values are numerically coded.\n",
        "\n",
        "\n"
      ]
    },
    {
      "cell_type": "markdown",
      "metadata": {
        "id": "woX0UgwsHCNX",
        "colab_type": "text"
      },
      "source": [
        "Packages required:"
      ]
    },
    {
      "cell_type": "code",
      "metadata": {
        "id": "5U7jyhj3HIaj",
        "colab_type": "code",
        "colab": {}
      },
      "source": [
        "import pandas as pd\n",
        "import numpy as np\n",
        "import matplotlib.pyplot as plt"
      ],
      "execution_count": null,
      "outputs": []
    },
    {
      "cell_type": "markdown",
      "metadata": {
        "id": "UvSdReXwJeh2",
        "colab_type": "text"
      },
      "source": [
        "Datasets:"
      ]
    },
    {
      "cell_type": "code",
      "metadata": {
        "id": "Jlhs8pY4JhVX",
        "colab_type": "code",
        "colab": {}
      },
      "source": [
        "df1=pd.read_csv('depression.csv')\n",
        "df2=pd.read_csv('actor_age.csv')\n",
        "df3=pd.read_csv('friends.csv')\n",
        "df4=pd.read_csv('grad_data.csv')\n",
        "df5=pd.read_csv('ratings.csv')"
      ],
      "execution_count": null,
      "outputs": []
    },
    {
      "cell_type": "markdown",
      "metadata": {
        "id": "KX86gZkVHSd4",
        "colab_type": "text"
      },
      "source": [
        "# **QUESTION 1:**\n",
        "\n",
        "What are the categorical variables in this dataset? "
      ]
    },
    {
      "cell_type": "code",
      "metadata": {
        "id": "uM5wYU43HjDt",
        "colab_type": "code",
        "colab": {
          "base_uri": "https://localhost:8080/",
          "height": 204
        },
        "outputId": "22e1550e-4636-4864-a4e4-6f393b3ecdee"
      },
      "source": [
        "df1.head()"
      ],
      "execution_count": null,
      "outputs": [
        {
          "output_type": "execute_result",
          "data": {
            "text/html": [
              "<div>\n",
              "<style scoped>\n",
              "    .dataframe tbody tr th:only-of-type {\n",
              "        vertical-align: middle;\n",
              "    }\n",
              "\n",
              "    .dataframe tbody tr th {\n",
              "        vertical-align: top;\n",
              "    }\n",
              "\n",
              "    .dataframe thead th {\n",
              "        text-align: right;\n",
              "    }\n",
              "</style>\n",
              "<table border=\"1\" class=\"dataframe\">\n",
              "  <thead>\n",
              "    <tr style=\"text-align: right;\">\n",
              "      <th></th>\n",
              "      <th>Unnamed: 0</th>\n",
              "      <th>Hospt</th>\n",
              "      <th>Treat</th>\n",
              "      <th>Outcome</th>\n",
              "      <th>Time</th>\n",
              "      <th>AcuteT</th>\n",
              "      <th>Age</th>\n",
              "      <th>Gender</th>\n",
              "    </tr>\n",
              "  </thead>\n",
              "  <tbody>\n",
              "    <tr>\n",
              "      <th>0</th>\n",
              "      <td>1</td>\n",
              "      <td>1</td>\n",
              "      <td>0</td>\n",
              "      <td>1</td>\n",
              "      <td>36.143002</td>\n",
              "      <td>211</td>\n",
              "      <td>33</td>\n",
              "      <td>1</td>\n",
              "    </tr>\n",
              "    <tr>\n",
              "      <th>1</th>\n",
              "      <td>2</td>\n",
              "      <td>1</td>\n",
              "      <td>1</td>\n",
              "      <td>0</td>\n",
              "      <td>105.142998</td>\n",
              "      <td>176</td>\n",
              "      <td>49</td>\n",
              "      <td>1</td>\n",
              "    </tr>\n",
              "    <tr>\n",
              "      <th>2</th>\n",
              "      <td>3</td>\n",
              "      <td>1</td>\n",
              "      <td>1</td>\n",
              "      <td>0</td>\n",
              "      <td>74.570999</td>\n",
              "      <td>191</td>\n",
              "      <td>50</td>\n",
              "      <td>1</td>\n",
              "    </tr>\n",
              "    <tr>\n",
              "      <th>3</th>\n",
              "      <td>4</td>\n",
              "      <td>1</td>\n",
              "      <td>0</td>\n",
              "      <td>1</td>\n",
              "      <td>49.714001</td>\n",
              "      <td>206</td>\n",
              "      <td>29</td>\n",
              "      <td>2</td>\n",
              "    </tr>\n",
              "    <tr>\n",
              "      <th>4</th>\n",
              "      <td>5</td>\n",
              "      <td>1</td>\n",
              "      <td>0</td>\n",
              "      <td>0</td>\n",
              "      <td>14.429000</td>\n",
              "      <td>63</td>\n",
              "      <td>29</td>\n",
              "      <td>1</td>\n",
              "    </tr>\n",
              "  </tbody>\n",
              "</table>\n",
              "</div>"
            ],
            "text/plain": [
              "   Unnamed: 0  Hospt  Treat  Outcome        Time  AcuteT  Age  Gender\n",
              "0           1      1      0        1   36.143002     211   33       1\n",
              "1           2      1      1        0  105.142998     176   49       1\n",
              "2           3      1      1        0   74.570999     191   50       1\n",
              "3           4      1      0        1   49.714001     206   29       2\n",
              "4           5      1      0        0   14.429000      63   29       1"
            ]
          },
          "metadata": {
            "tags": []
          },
          "execution_count": 8
        }
      ]
    },
    {
      "cell_type": "markdown",
      "metadata": {
        "id": "GJMNUFx_KWWF",
        "colab_type": "text"
      },
      "source": [
        "ANSWER: Categorical variables are defined as variables that take on values that are names or labels. So from the above dataframe the categorical variables are:\n",
        "1. Hospt - each number corresponds to a hospital\n",
        "2. Treat - different types of treatment\n",
        "3. Outcome - treatment successful or not\n",
        "4. Gender - female or male"
      ]
    },
    {
      "cell_type": "markdown",
      "metadata": {
        "id": "7HSJT4yJLbZo",
        "colab_type": "text"
      },
      "source": [
        "# **QUESTION 2:**\n",
        "\n",
        "What are the quantitative variables in this dataset? \n",
        "\n"
      ]
    },
    {
      "cell_type": "markdown",
      "metadata": {
        "id": "tbbUATFiMI7e",
        "colab_type": "text"
      },
      "source": [
        "ANSWER: Quantitative variables are the variables whose values result from counting or measuring something. So from the same dataframe mentioned above, the quantitative variables are:\n",
        "1. Time - time the patient was under treatment\n",
        "2. AcuteT - measurable quantity\n",
        "3. Age - age of the patient\n"
      ]
    },
    {
      "cell_type": "markdown",
      "metadata": {
        "id": "pZtUsQGcNxVH",
        "colab_type": "text"
      },
      "source": [
        "# **QUESTION 3:**\n",
        "\n",
        "Describe the distribution of the variable \"friends\" in dataset - Survey that asked 1,200 U.S. college students about their body perception. "
      ]
    },
    {
      "cell_type": "code",
      "metadata": {
        "id": "i2fHupXVL91O",
        "colab_type": "code",
        "colab": {
          "base_uri": "https://localhost:8080/",
          "height": 204
        },
        "outputId": "1bfc7eda-8013-4e8d-d7b4-4d304caa36f5"
      },
      "source": [
        "df3.head()"
      ],
      "execution_count": null,
      "outputs": [
        {
          "output_type": "execute_result",
          "data": {
            "text/html": [
              "<div>\n",
              "<style scoped>\n",
              "    .dataframe tbody tr th:only-of-type {\n",
              "        vertical-align: middle;\n",
              "    }\n",
              "\n",
              "    .dataframe tbody tr th {\n",
              "        vertical-align: top;\n",
              "    }\n",
              "\n",
              "    .dataframe thead th {\n",
              "        text-align: right;\n",
              "    }\n",
              "</style>\n",
              "<table border=\"1\" class=\"dataframe\">\n",
              "  <thead>\n",
              "    <tr style=\"text-align: right;\">\n",
              "      <th></th>\n",
              "      <th>Unnamed: 0</th>\n",
              "      <th>Friends</th>\n",
              "    </tr>\n",
              "  </thead>\n",
              "  <tbody>\n",
              "    <tr>\n",
              "      <th>0</th>\n",
              "      <td>1</td>\n",
              "      <td>No difference</td>\n",
              "    </tr>\n",
              "    <tr>\n",
              "      <th>1</th>\n",
              "      <td>2</td>\n",
              "      <td>No difference</td>\n",
              "    </tr>\n",
              "    <tr>\n",
              "      <th>2</th>\n",
              "      <td>3</td>\n",
              "      <td>No difference</td>\n",
              "    </tr>\n",
              "    <tr>\n",
              "      <th>3</th>\n",
              "      <td>4</td>\n",
              "      <td>No difference</td>\n",
              "    </tr>\n",
              "    <tr>\n",
              "      <th>4</th>\n",
              "      <td>5</td>\n",
              "      <td>No difference</td>\n",
              "    </tr>\n",
              "  </tbody>\n",
              "</table>\n",
              "</div>"
            ],
            "text/plain": [
              "   Unnamed: 0        Friends\n",
              "0           1  No difference\n",
              "1           2  No difference\n",
              "2           3  No difference\n",
              "3           4  No difference\n",
              "4           5  No difference"
            ]
          },
          "metadata": {
            "tags": []
          },
          "execution_count": 9
        }
      ]
    },
    {
      "cell_type": "code",
      "metadata": {
        "id": "I-2GgA00O48J",
        "colab_type": "code",
        "colab": {
          "base_uri": "https://localhost:8080/",
          "height": 102
        },
        "outputId": "f6920f2b-3547-4042-fdc9-40a74b80c5ba"
      },
      "source": [
        "df3['Friends'].describe()"
      ],
      "execution_count": null,
      "outputs": [
        {
          "output_type": "execute_result",
          "data": {
            "text/plain": [
              "count              1200\n",
              "unique                3\n",
              "top       No difference\n",
              "freq                602\n",
              "Name: Friends, dtype: object"
            ]
          },
          "metadata": {
            "tags": []
          },
          "execution_count": 13
        }
      ]
    },
    {
      "cell_type": "code",
      "metadata": {
        "id": "mFey8Q0LOVIX",
        "colab_type": "code",
        "colab": {
          "base_uri": "https://localhost:8080/",
          "height": 85
        },
        "outputId": "97cd39a6-641d-4327-d9c9-e483a4b38bf5"
      },
      "source": [
        "a=df3['Friends'].value_counts()\n",
        "a"
      ],
      "execution_count": null,
      "outputs": [
        {
          "output_type": "execute_result",
          "data": {
            "text/plain": [
              "No difference    602\n",
              "Opposite sex     434\n",
              "Same sex         164\n",
              "Name: Friends, dtype: int64"
            ]
          },
          "metadata": {
            "tags": []
          },
          "execution_count": 11
        }
      ]
    },
    {
      "cell_type": "code",
      "metadata": {
        "id": "H7nG5I_EOkzw",
        "colab_type": "code",
        "colab": {
          "base_uri": "https://localhost:8080/",
          "height": 282
        },
        "outputId": "79b52256-65e7-4b77-c1b0-6564e798b1b0"
      },
      "source": [
        "a.plot(kind='hist')"
      ],
      "execution_count": null,
      "outputs": [
        {
          "output_type": "execute_result",
          "data": {
            "text/plain": [
              "<matplotlib.axes._subplots.AxesSubplot at 0x7fa88d272ac8>"
            ]
          },
          "metadata": {
            "tags": []
          },
          "execution_count": 12
        },
        {
          "output_type": "display_data",
          "data": {
            "image/png": "[encoded data removed]",
            "text/plain": [
              "<Figure size 432x288 with 1 Axes>"
            ]
          },
          "metadata": {
            "tags": [],
            "needs_background": "light"
          }
        }
      ]
    },
    {
      "cell_type": "code",
      "metadata": {
        "id": "TdBtKpbSO-NE",
        "colab_type": "code",
        "colab": {
          "base_uri": "https://localhost:8080/",
          "height": 265
        },
        "outputId": "1b518ad7-22bd-40be-fc62-4e8cdb871b72"
      },
      "source": [
        "a.plot(kind='pie')"
      ],
      "execution_count": null,
      "outputs": [
        {
          "output_type": "execute_result",
          "data": {
            "text/plain": [
              "<matplotlib.axes._subplots.AxesSubplot at 0x7fa88d319c50>"
            ]
          },
          "metadata": {
            "tags": []
          },
          "execution_count": 14
        },
        {
          "output_type": "display_data",
          "data": {
            "image/png": "[encoded data removed]",
            "text/plain": [
              "<Figure size 432x288 with 1 Axes>"
            ]
          },
          "metadata": {
            "tags": []
          }
        }
      ]
    },
    {
      "cell_type": "markdown",
      "metadata": {
        "id": "KLN4n0WUPDoF",
        "colab_type": "text"
      },
      "source": [
        "ANSWER: The variable 'Friends' in the dataset is in three distinct categories and are distributed unevenly. \n",
        "For 50% of the students making friends with the opposite sexa as well as the same sex is easy. For around 35% students its easier to make friends with the opposite sex and other 15% find it easier to make friends with people of the same sex"
      ]
    },
    {
      "cell_type": "markdown",
      "metadata": {
        "id": "W_OE2w0NQuGH",
        "colab_type": "text"
      },
      "source": [
        "# **QUESTION 4:**\n",
        "\n",
        "Describe the distribution of the ages of the Best Actor Oscar winners. Be sure to address shape, center, spread and outliers."
      ]
    },
    {
      "cell_type": "code",
      "metadata": {
        "id": "mXWiLzJ-Q5ME",
        "colab_type": "code",
        "colab": {
          "base_uri": "https://localhost:8080/",
          "height": 204
        },
        "outputId": "2013a5fa-2b79-4bdf-aed8-2d009c35269f"
      },
      "source": [
        "df2.head()"
      ],
      "execution_count": null,
      "outputs": [
        {
          "output_type": "execute_result",
          "data": {
            "text/html": [
              "<div>\n",
              "<style scoped>\n",
              "    .dataframe tbody tr th:only-of-type {\n",
              "        vertical-align: middle;\n",
              "    }\n",
              "\n",
              "    .dataframe tbody tr th {\n",
              "        vertical-align: top;\n",
              "    }\n",
              "\n",
              "    .dataframe thead th {\n",
              "        text-align: right;\n",
              "    }\n",
              "</style>\n",
              "<table border=\"1\" class=\"dataframe\">\n",
              "  <thead>\n",
              "    <tr style=\"text-align: right;\">\n",
              "      <th></th>\n",
              "      <th>Unnamed: 0</th>\n",
              "      <th>Age</th>\n",
              "    </tr>\n",
              "  </thead>\n",
              "  <tbody>\n",
              "    <tr>\n",
              "      <th>0</th>\n",
              "      <td>1</td>\n",
              "      <td>43</td>\n",
              "    </tr>\n",
              "    <tr>\n",
              "      <th>1</th>\n",
              "      <td>2</td>\n",
              "      <td>42</td>\n",
              "    </tr>\n",
              "    <tr>\n",
              "      <th>2</th>\n",
              "      <td>3</td>\n",
              "      <td>48</td>\n",
              "    </tr>\n",
              "    <tr>\n",
              "      <th>3</th>\n",
              "      <td>4</td>\n",
              "      <td>49</td>\n",
              "    </tr>\n",
              "    <tr>\n",
              "      <th>4</th>\n",
              "      <td>5</td>\n",
              "      <td>56</td>\n",
              "    </tr>\n",
              "  </tbody>\n",
              "</table>\n",
              "</div>"
            ],
            "text/plain": [
              "   Unnamed: 0  Age\n",
              "0           1   43\n",
              "1           2   42\n",
              "2           3   48\n",
              "3           4   49\n",
              "4           5   56"
            ]
          },
          "metadata": {
            "tags": []
          },
          "execution_count": 15
        }
      ]
    },
    {
      "cell_type": "code",
      "metadata": {
        "id": "7X2KrpEgRbZl",
        "colab_type": "code",
        "colab": {
          "base_uri": "https://localhost:8080/",
          "height": 170
        },
        "outputId": "97e4e165-bedb-474f-d300-0fba20cdd169"
      },
      "source": [
        "df2['Age'].describe()"
      ],
      "execution_count": null,
      "outputs": [
        {
          "output_type": "execute_result",
          "data": {
            "text/plain": [
              "count    44.000000\n",
              "mean     44.977273\n",
              "std       9.749153\n",
              "min      29.000000\n",
              "25%      38.000000\n",
              "50%      43.500000\n",
              "75%      50.250000\n",
              "max      76.000000\n",
              "Name: Age, dtype: float64"
            ]
          },
          "metadata": {
            "tags": []
          },
          "execution_count": 16
        }
      ]
    },
    {
      "cell_type": "code",
      "metadata": {
        "id": "ztiO3M8pRf8W",
        "colab_type": "code",
        "colab": {
          "base_uri": "https://localhost:8080/",
          "height": 282
        },
        "outputId": "d09547e4-ee0b-45e5-9a0c-e27983275188"
      },
      "source": [
        "df2['Age'].plot(kind='hist')"
      ],
      "execution_count": null,
      "outputs": [
        {
          "output_type": "execute_result",
          "data": {
            "text/plain": [
              "<matplotlib.axes._subplots.AxesSubplot at 0x7fa88cd3e080>"
            ]
          },
          "metadata": {
            "tags": []
          },
          "execution_count": 17
        },
        {
          "output_type": "display_data",
          "data": {
            "image/png": "[encoded data removed]",
            "text/plain": [
              "<Figure size 432x288 with 1 Axes>"
            ]
          },
          "metadata": {
            "tags": [],
            "needs_background": "light"
          }
        }
      ]
    },
    {
      "cell_type": "code",
      "metadata": {
        "id": "0bogef_1Rm1B",
        "colab_type": "code",
        "colab": {
          "base_uri": "https://localhost:8080/",
          "height": 282
        },
        "outputId": "7b264f1f-fad6-4ace-ed46-b7574a62f2f6"
      },
      "source": [
        "df2.boxplot(column=['Age'])"
      ],
      "execution_count": null,
      "outputs": [
        {
          "output_type": "execute_result",
          "data": {
            "text/plain": [
              "<matplotlib.axes._subplots.AxesSubplot at 0x7fa88cc77550>"
            ]
          },
          "metadata": {
            "tags": []
          },
          "execution_count": 18
        },
        {
          "output_type": "display_data",
          "data": {
            "image/png": "[encoded data removed]",
            "text/plain": [
              "<Figure size 432x288 with 1 Axes>"
            ]
          },
          "metadata": {
            "tags": [],
            "needs_background": "light"
          }
        }
      ]
    },
    {
      "cell_type": "markdown",
      "metadata": {
        "id": "GmvXTUDaSI-_",
        "colab_type": "text"
      },
      "source": [
        "ANSWER: \n",
        "1. Shape - The distribution is positively skewed as seen in the histogram. \n",
        "2. Center - The center (median) is 43.5 taken from describe functions' 50% value. \n",
        "3. Spread - The spread (standard deviation) is 9.749 taken from the describe function. \n",
        "4. Outlier - There is only one outlier as seen in the boxplot which indicates that there is an actor above the age of 70. "
      ]
    },
    {
      "cell_type": "markdown",
      "metadata": {
        "id": "YmpXvkVxTiKc",
        "colab_type": "text"
      },
      "source": [
        "# **QUESTION 5:**\n",
        "\n",
        "Getting information from the output: \n",
        "\n",
        "a. How many observations are in this data set? \n",
        "\n",
        "b. What is the mean age of the actors who won the Oscar? \n",
        "\n",
        "c. What is the five-number summary of the distribution? "
      ]
    },
    {
      "cell_type": "code",
      "metadata": {
        "id": "43baBKdMTrt1",
        "colab_type": "code",
        "colab": {
          "base_uri": "https://localhost:8080/",
          "height": 34
        },
        "outputId": "dade6515-95ff-474a-fd94-cb29623812d2"
      },
      "source": [
        "df2.shape"
      ],
      "execution_count": null,
      "outputs": [
        {
          "output_type": "execute_result",
          "data": {
            "text/plain": [
              "(44, 2)"
            ]
          },
          "metadata": {
            "tags": []
          },
          "execution_count": 20
        }
      ]
    },
    {
      "cell_type": "code",
      "metadata": {
        "id": "S7tkjqcBUQed",
        "colab_type": "code",
        "colab": {
          "base_uri": "https://localhost:8080/",
          "height": 170
        },
        "outputId": "be311dcc-90f4-42ff-e32c-d7104fd69f54"
      },
      "source": [
        "df2['Age'].describe()"
      ],
      "execution_count": null,
      "outputs": [
        {
          "output_type": "execute_result",
          "data": {
            "text/plain": [
              "count    44.000000\n",
              "mean     44.977273\n",
              "std       9.749153\n",
              "min      29.000000\n",
              "25%      38.000000\n",
              "50%      43.500000\n",
              "75%      50.250000\n",
              "max      76.000000\n",
              "Name: Age, dtype: float64"
            ]
          },
          "metadata": {
            "tags": []
          },
          "execution_count": 21
        }
      ]
    },
    {
      "cell_type": "markdown",
      "metadata": {
        "id": "QA-cdVcaUYV0",
        "colab_type": "text"
      },
      "source": [
        "ANSWER:\n",
        "\n",
        "a. There are 44 observations (actors) in the dataset\n",
        "\n",
        "b. The mean age of the actors who won the Oscar is 44.977273\n",
        "\n",
        "c. The five-number summary is:\n",
        "> Minimum = 29\n",
        "\n",
        "> Q1 (25%) = 38\n",
        "\n",
        "> Median = 43.5\n",
        "\n",
        "> Q3 (75%) = 50.25\n",
        "\n",
        "> Maximum = 76\n",
        "\n",
        "\n",
        "\n",
        "\n",
        "\n",
        "\n",
        "\n",
        "\n",
        "   \n",
        "   \n",
        " "
      ]
    },
    {
      "cell_type": "markdown",
      "metadata": {
        "id": "u6rI63KYVsk6",
        "colab_type": "text"
      },
      "source": [
        "# **QUESTION 6:**\n",
        "\n",
        "Get information from the five-number summary: \n",
        "\n",
        "a. Half of the actors won the Oscar before what age? \n",
        "\n",
        "b. What is the range covered by all the actors' ages? \n",
        "\n",
        "c. What is the range covered by the middle 50% of the ages? \n"
      ]
    },
    {
      "cell_type": "code",
      "metadata": {
        "id": "v9k65ahlV5iK",
        "colab_type": "code",
        "colab": {
          "base_uri": "https://localhost:8080/",
          "height": 170
        },
        "outputId": "eda608ec-406d-4e61-e235-0ce87fef1e0c"
      },
      "source": [
        "df2['Age'].describe()"
      ],
      "execution_count": null,
      "outputs": [
        {
          "output_type": "execute_result",
          "data": {
            "text/plain": [
              "count    44.000000\n",
              "mean     44.977273\n",
              "std       9.749153\n",
              "min      29.000000\n",
              "25%      38.000000\n",
              "50%      43.500000\n",
              "75%      50.250000\n",
              "max      76.000000\n",
              "Name: Age, dtype: float64"
            ]
          },
          "metadata": {
            "tags": []
          },
          "execution_count": 22
        }
      ]
    },
    {
      "cell_type": "markdown",
      "metadata": {
        "id": "2c2FE6bUV_ld",
        "colab_type": "text"
      },
      "source": [
        "ANSWER:\n",
        "a. The median is 43.5 so half the actors won the Oscar before the age of 43.5\n",
        "\n",
        "b. Range covered by all actors' ages is\n",
        "\n",
        "> Max - Min = 47 years\n",
        "\n",
        "c. Range covered by the middle 50% of ages is\n",
        "\n",
        "> Q3 (75%) - Q1 (25%) = 12.25 years\n",
        "\n",
        "\n",
        "\n"
      ]
    },
    {
      "cell_type": "markdown",
      "metadata": {
        "id": "JZ22KTFVXFP4",
        "colab_type": "text"
      },
      "source": [
        "# **QUESTION 7:**\n",
        "\n",
        "What are the standard deviations of the three rating distributions? Was your intuition correct? \n"
      ]
    },
    {
      "cell_type": "code",
      "metadata": {
        "id": "neAh0fP-XMQs",
        "colab_type": "code",
        "colab": {
          "base_uri": "https://localhost:8080/",
          "height": 204
        },
        "outputId": "ccb97a67-4379-41be-d656-b8571c406111"
      },
      "source": [
        "df5.head()"
      ],
      "execution_count": null,
      "outputs": [
        {
          "output_type": "execute_result",
          "data": {
            "text/html": [
              "<div>\n",
              "<style scoped>\n",
              "    .dataframe tbody tr th:only-of-type {\n",
              "        vertical-align: middle;\n",
              "    }\n",
              "\n",
              "    .dataframe tbody tr th {\n",
              "        vertical-align: top;\n",
              "    }\n",
              "\n",
              "    .dataframe thead th {\n",
              "        text-align: right;\n",
              "    }\n",
              "</style>\n",
              "<table border=\"1\" class=\"dataframe\">\n",
              "  <thead>\n",
              "    <tr style=\"text-align: right;\">\n",
              "      <th></th>\n",
              "      <th>Unnamed: 0</th>\n",
              "      <th>Class.I</th>\n",
              "      <th>Class.II</th>\n",
              "      <th>Class.III</th>\n",
              "    </tr>\n",
              "  </thead>\n",
              "  <tbody>\n",
              "    <tr>\n",
              "      <th>0</th>\n",
              "      <td>1</td>\n",
              "      <td>1</td>\n",
              "      <td>1</td>\n",
              "      <td>1</td>\n",
              "    </tr>\n",
              "    <tr>\n",
              "      <th>1</th>\n",
              "      <td>2</td>\n",
              "      <td>1</td>\n",
              "      <td>1</td>\n",
              "      <td>2</td>\n",
              "    </tr>\n",
              "    <tr>\n",
              "      <th>2</th>\n",
              "      <td>3</td>\n",
              "      <td>5</td>\n",
              "      <td>1</td>\n",
              "      <td>3</td>\n",
              "    </tr>\n",
              "    <tr>\n",
              "      <th>3</th>\n",
              "      <td>4</td>\n",
              "      <td>5</td>\n",
              "      <td>1</td>\n",
              "      <td>4</td>\n",
              "    </tr>\n",
              "    <tr>\n",
              "      <th>4</th>\n",
              "      <td>5</td>\n",
              "      <td>5</td>\n",
              "      <td>1</td>\n",
              "      <td>5</td>\n",
              "    </tr>\n",
              "  </tbody>\n",
              "</table>\n",
              "</div>"
            ],
            "text/plain": [
              "   Unnamed: 0  Class.I  Class.II  Class.III\n",
              "0           1        1         1          1\n",
              "1           2        1         1          2\n",
              "2           3        5         1          3\n",
              "3           4        5         1          4\n",
              "4           5        5         1          5"
            ]
          },
          "metadata": {
            "tags": []
          },
          "execution_count": 23
        }
      ]
    },
    {
      "cell_type": "code",
      "metadata": {
        "id": "YoGBtWevXjF8",
        "colab_type": "code",
        "colab": {
          "base_uri": "https://localhost:8080/",
          "height": 34
        },
        "outputId": "c1aec553-dad8-4a17-cb83-d669c3cad820"
      },
      "source": [
        "df5['Class.I'].std()"
      ],
      "execution_count": null,
      "outputs": [
        {
          "output_type": "execute_result",
          "data": {
            "text/plain": [
              "1.5689290811054724"
            ]
          },
          "metadata": {
            "tags": []
          },
          "execution_count": 24
        }
      ]
    },
    {
      "cell_type": "code",
      "metadata": {
        "id": "EDKe0mLfXqLS",
        "colab_type": "code",
        "colab": {
          "base_uri": "https://localhost:8080/",
          "height": 34
        },
        "outputId": "126c8d36-8332-47b7-f2ee-3c44edb42854"
      },
      "source": [
        "df5['Class.II'].std()"
      ],
      "execution_count": null,
      "outputs": [
        {
          "output_type": "execute_result",
          "data": {
            "text/plain": [
              "4.0"
            ]
          },
          "metadata": {
            "tags": []
          },
          "execution_count": 25
        }
      ]
    },
    {
      "cell_type": "code",
      "metadata": {
        "id": "N37Y2cIuXuOr",
        "colab_type": "code",
        "colab": {
          "base_uri": "https://localhost:8080/",
          "height": 34
        },
        "outputId": "8eb1c21a-7c30-4d0d-d9c9-2c9fa9b3e111"
      },
      "source": [
        "df5['Class.III'].std()"
      ],
      "execution_count": null,
      "outputs": [
        {
          "output_type": "execute_result",
          "data": {
            "text/plain": [
              "2.6311740579210876"
            ]
          },
          "metadata": {
            "tags": []
          },
          "execution_count": 26
        }
      ]
    },
    {
      "cell_type": "markdown",
      "metadata": {
        "id": "8NfKYiD8X2up",
        "colab_type": "text"
      },
      "source": [
        "ANSWER: The standard deviation of the three ratings are:\n",
        "\n",
        "Class I - 1.5689290811054724\n",
        "\n",
        "Class II - 4\n",
        "\n",
        "Class III - 2.6311740579210876"
      ]
    },
    {
      "cell_type": "markdown",
      "metadata": {
        "id": "WWv6iAN_YLVF",
        "colab_type": "text"
      },
      "source": [
        "# **QUESTION 8:**\n",
        "\n",
        "Assume that the average rating in each of the three classes is 5 (which should be visually reasonably clear from the histograms), and recall the interpretation of the SD as a \"typical\" or \"average\" distance between the data points and their mean. Judging from the table and the histograms, which class would have the largest standard deviation, and which one would have the smallest standard deviation? Explain your reasoning "
      ]
    },
    {
      "cell_type": "code",
      "metadata": {
        "id": "YVCUGcOpYwQT",
        "colab_type": "code",
        "colab": {
          "base_uri": "https://localhost:8080/",
          "height": 282
        },
        "outputId": "71077834-b57d-46a3-da28-6518ae543d92"
      },
      "source": [
        "df5['Class.I'].plot(kind='hist')"
      ],
      "execution_count": null,
      "outputs": [
        {
          "output_type": "execute_result",
          "data": {
            "text/plain": [
              "<matplotlib.axes._subplots.AxesSubplot at 0x7fa88cc23f28>"
            ]
          },
          "metadata": {
            "tags": []
          },
          "execution_count": 27
        },
        {
          "output_type": "display_data",
          "data": {
            "image/png": "[encoded data removed]",
            "text/plain": [
              "<Figure size 432x288 with 1 Axes>"
            ]
          },
          "metadata": {
            "tags": [],
            "needs_background": "light"
          }
        }
      ]
    },
    {
      "cell_type": "code",
      "metadata": {
        "id": "68N1RrSkZT3b",
        "colab_type": "code",
        "colab": {
          "base_uri": "https://localhost:8080/",
          "height": 282
        },
        "outputId": "a1653b47-8c58-4adf-b0b4-d486f60add67"
      },
      "source": [
        "df5['Class.II'].plot(kind='hist')"
      ],
      "execution_count": null,
      "outputs": [
        {
          "output_type": "execute_result",
          "data": {
            "text/plain": [
              "<matplotlib.axes._subplots.AxesSubplot at 0x7fa88cb8c908>"
            ]
          },
          "metadata": {
            "tags": []
          },
          "execution_count": 28
        },
        {
          "output_type": "display_data",
          "data": {
            "image/png": "[encoded data removed]",
            "text/plain": [
              "<Figure size 432x288 with 1 Axes>"
            ]
          },
          "metadata": {
            "tags": [],
            "needs_background": "light"
          }
        }
      ]
    },
    {
      "cell_type": "code",
      "metadata": {
        "id": "YRnpcASxZV-_",
        "colab_type": "code",
        "colab": {
          "base_uri": "https://localhost:8080/",
          "height": 282
        },
        "outputId": "8dd2b511-46f2-4a1f-a1f7-8da77fcf824f"
      },
      "source": [
        "df5['Class.III'].plot(kind='hist')"
      ],
      "execution_count": null,
      "outputs": [
        {
          "output_type": "execute_result",
          "data": {
            "text/plain": [
              "<matplotlib.axes._subplots.AxesSubplot at 0x7fa88cb88438>"
            ]
          },
          "metadata": {
            "tags": []
          },
          "execution_count": 29
        },
        {
          "output_type": "display_data",
          "data": {
            "image/png": "[encoded data removed]",
            "text/plain": [
              "<Figure size 432x288 with 1 Axes>"
            ]
          },
          "metadata": {
            "tags": [],
            "needs_background": "light"
          }
        }
      ]
    },
    {
      "cell_type": "markdown",
      "metadata": {
        "id": "b9DNu7xoZc2p",
        "colab_type": "text"
      },
      "source": [
        "ANSWER: The mean is assumed as 5 for all classes so the standard deviation depends on how spread out the observations are from the mean:\n",
        "\n",
        "> Class I - the observations are concentrated at 5 which is also the assumed mean and hence the standard deviation is the lowest.\n",
        "\n",
        "> Class II - the observations are spread out extremely far from the assumed mean i.e. 5. Hence, the standard deviation is the largest.\n",
        "\n",
        "> Class III - the observations are evenly spread out everywhere excluding 5 (the assumed mean) so the standard deviation is not too large nor too small.\n",
        "\n",
        "The standard deviations are as follows:\n",
        "\n",
        "CLASS I < CLASS III < CLASS II\n",
        "\n",
        "\n",
        "\n",
        "\n"
      ]
    }
  ]
}