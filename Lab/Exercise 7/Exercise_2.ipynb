{
  "nbformat": 4,
  "nbformat_minor": 0,
  "metadata": {
    "colab": {
      "name": "Exercise_2.ipynb",
      "provenance": [],
      "authorship_tag": "ABX9TyPcx2V6RbgJAmd/43TuveJ0",
      "include_colab_link": true
    },
    "kernelspec": {
      "name": "python3",
      "display_name": "Python 3"
    }
  },
  "cells": [
    {
      "cell_type": "markdown",
      "metadata": {
        "id": "view-in-github",
        "colab_type": "text"
      },
      "source": [
        "<a href=\"https://colab.research.google.com/github/saumya-nauni/ML-Sem-V/blob/master/Lab/Exercise%207/Exercise_2.ipynb\" target=\"_parent\"><img src=\"https://colab.research.google.com/assets/colab-badge.svg\" alt=\"Open In Colab\"/></a>"
      ]
    },
    {
      "cell_type": "code",
      "metadata": {
        "id": "S1mqZjrHkugr",
        "colab_type": "code",
        "colab": {}
      },
      "source": [
        "import pandas as pd\n",
        "import numpy as np\n",
        "from sklearn.datasets import fetch_covtype, fetch_kddcup99, fetch_lfw_pairs, fetch_lfw_people, fetch_olivetti_faces\n",
        "from sklearn.datasets import fetch_rcv1, load_breast_cancer, load_digits, load_wine"
      ],
      "execution_count": 1,
      "outputs": []
    },
    {
      "cell_type": "code",
      "metadata": {
        "id": "RuG-T7Tpk9vH",
        "colab_type": "code",
        "colab": {}
      },
      "source": [
        "from sklearn.model_selection import train_test_split\n",
        "from sklearn.preprocessing import LabelEncoder, StandardScaler\n",
        "from scipy.sparse import csr_matrix\n",
        "import matplotlib.pyplot as plt"
      ],
      "execution_count": 2,
      "outputs": []
    },
    {
      "cell_type": "code",
      "metadata": {
        "id": "P0uWI6dXlA3-",
        "colab_type": "code",
        "colab": {}
      },
      "source": [
        "from keras import models\n",
        "from keras import layers\n",
        "from keras.utils import to_categorical"
      ],
      "execution_count": 3,
      "outputs": []
    },
    {
      "cell_type": "code",
      "metadata": {
        "id": "X3OM4QaTlDpU",
        "colab_type": "code",
        "colab": {
          "base_uri": "https://localhost:8080/",
          "height": 34
        },
        "outputId": "0de67cf1-1965-4230-d70c-dbd4b0886c20"
      },
      "source": [
        "kddcup99 = fetch_kddcup99()\n",
        "x_fetch_kddcup99 = kddcup99.data\n",
        "y_fetch_kddcup99 = kddcup99.target"
      ],
      "execution_count": 4,
      "outputs": [
        {
          "output_type": "stream",
          "text": [
            "Downloading https://ndownloader.figshare.com/files/5976042\n"
          ],
          "name": "stderr"
        }
      ]
    },
    {
      "cell_type": "code",
      "metadata": {
        "id": "p19DYePclG38",
        "colab_type": "code",
        "colab": {
          "base_uri": "https://localhost:8080/",
          "height": 51
        },
        "outputId": "f1c684b8-5a38-4473-f995-040e75026959"
      },
      "source": [
        "x_kdd = pd.DataFrame(x_fetch_kddcup99)\n",
        "y_kdd = pd.DataFrame(y_fetch_kddcup99)\n",
        "print(x_kdd.shape)\n",
        "print(y_kdd.shape)"
      ],
      "execution_count": 5,
      "outputs": [
        {
          "output_type": "stream",
          "text": [
            "(494021, 41)\n",
            "(494021, 1)\n"
          ],
          "name": "stdout"
        }
      ]
    },
    {
      "cell_type": "code",
      "metadata": {
        "id": "xJ_sp2G2lJxk",
        "colab_type": "code",
        "colab": {}
      },
      "source": [
        "le = LabelEncoder()\n",
        "for i in [1,2,3]:\n",
        "  x_kdd[i] = [j.decode('utf-8') for j in x_kdd[i]]\n",
        "  x_kdd[i] = le.fit_transform(x_kdd[i])\n",
        "\n",
        "for i in range(x_kdd.shape[1]):\n",
        "  x_kdd[i] = x_kdd[i].astype('float')"
      ],
      "execution_count": 6,
      "outputs": []
    },
    {
      "cell_type": "code",
      "metadata": {
        "id": "Llw2CFo6lNUs",
        "colab_type": "code",
        "colab": {}
      },
      "source": [
        "y_kdd99 = [i.decode('utf-8') for i in y_fetch_kddcup99]\n",
        "y_kdd99 = pd.DataFrame(le.fit_transform(y_kdd99))"
      ],
      "execution_count": 7,
      "outputs": []
    },
    {
      "cell_type": "code",
      "metadata": {
        "id": "syHJlLKqlQ3p",
        "colab_type": "code",
        "colab": {
          "base_uri": "https://localhost:8080/",
          "height": 119
        },
        "outputId": "821b7eeb-4ddb-494f-c891-b1bee5aea12b"
      },
      "source": [
        "y_kdd99 = to_categorical(y_kdd99)\n",
        "x_train, x_test, y_train, y_test = train_test_split(x_kdd, y_kdd99, test_size = 0.2)\n",
        "x_dev, x_test, y_dev, y_test = train_test_split(x_test, y_test, test_size = 0.5)\n",
        "print(x_train.shape)\n",
        "print(x_dev.shape)\n",
        "print(x_test.shape)\n",
        "print(y_train.shape)\n",
        "print(y_dev.shape)\n",
        "print(y_test.shape)"
      ],
      "execution_count": 8,
      "outputs": [
        {
          "output_type": "stream",
          "text": [
            "(395216, 41)\n",
            "(49402, 41)\n",
            "(49403, 41)\n",
            "(395216, 23)\n",
            "(49402, 23)\n",
            "(49403, 23)\n"
          ],
          "name": "stdout"
        }
      ]
    },
    {
      "cell_type": "code",
      "metadata": {
        "id": "cDZVHPChlUK1",
        "colab_type": "code",
        "colab": {}
      },
      "source": [
        "nn_kdd99 = models.Sequential()\n",
        "nn_kdd99.add(layers.Dense(256, activation = 'relu', input_shape = (41, )))\n",
        "nn_kdd99.add(layers.Dense(128, activation = 'relu'))\n",
        "nn_kdd99.add(layers.Dense(64, activation = 'relu'))\n",
        "nn_kdd99.add(layers.Dense(32, activation = 'relu'))\n",
        "nn_kdd99.add(layers.Dense(23, activation = 'softmax'))\n",
        "nn_kdd99.compile(optimizer = 'rmsprop', loss = 'categorical_crossentropy', metrics = ['accuracy'])"
      ],
      "execution_count": 9,
      "outputs": []
    },
    {
      "cell_type": "code",
      "metadata": {
        "id": "Mvyyt9YHlh8e",
        "colab_type": "code",
        "colab": {
          "base_uri": "https://localhost:8080/",
          "height": 391
        },
        "outputId": "e4fa4d6d-8a34-449e-cf49-a259d1a8129a"
      },
      "source": [
        "kdd99_history = nn_kdd99.fit(x_train, y_train, epochs = 10, batch_size = 1000, validation_data = (x_dev, y_dev))\n",
        "kdd99_dev_acc = nn_kdd99.evaluate(x_dev, y_dev)[1]\n",
        "print('The dev accuracy is', kdd99_dev_acc)"
      ],
      "execution_count": 10,
      "outputs": [
        {
          "output_type": "stream",
          "text": [
            "Epoch 1/10\n",
            "396/396 [==============================] - 5s 13ms/step - loss: 109.2827 - accuracy: 0.9564 - val_loss: 23.9430 - val_accuracy: 0.9730\n",
            "Epoch 2/10\n",
            "396/396 [==============================] - 5s 12ms/step - loss: 162.5456 - accuracy: 0.9817 - val_loss: 3.2626 - val_accuracy: 0.9910\n",
            "Epoch 3/10\n",
            "396/396 [==============================] - 5s 12ms/step - loss: 88.0105 - accuracy: 0.9836 - val_loss: 2.8562 - val_accuracy: 0.9946\n",
            "Epoch 4/10\n",
            "396/396 [==============================] - 5s 12ms/step - loss: 177.0664 - accuracy: 0.9856 - val_loss: 5.4564 - val_accuracy: 0.9761\n",
            "Epoch 5/10\n",
            "396/396 [==============================] - 5s 12ms/step - loss: 61.8339 - accuracy: 0.9893 - val_loss: 13.5656 - val_accuracy: 0.9957\n",
            "Epoch 6/10\n",
            "396/396 [==============================] - 5s 12ms/step - loss: 30.1282 - accuracy: 0.9889 - val_loss: 1.9267 - val_accuracy: 0.9954\n",
            "Epoch 7/10\n",
            "396/396 [==============================] - 5s 12ms/step - loss: 32.5183 - accuracy: 0.9868 - val_loss: 2.2003 - val_accuracy: 0.9710\n",
            "Epoch 8/10\n",
            "396/396 [==============================] - 5s 13ms/step - loss: 13.6115 - accuracy: 0.9902 - val_loss: 15.6679 - val_accuracy: 0.9900\n",
            "Epoch 9/10\n",
            "396/396 [==============================] - 5s 13ms/step - loss: 3.8299 - accuracy: 0.9907 - val_loss: 3.2104 - val_accuracy: 0.9947\n",
            "Epoch 10/10\n",
            "396/396 [==============================] - 5s 12ms/step - loss: 27.6059 - accuracy: 0.9936 - val_loss: 4.2050 - val_accuracy: 0.9905\n",
            "1544/1544 [==============================] - 2s 1ms/step - loss: 4.2050 - accuracy: 0.9905\n",
            "The dev accuracy is 0.9905064702033997\n"
          ],
          "name": "stdout"
        }
      ]
    },
    {
      "cell_type": "code",
      "metadata": {
        "id": "3hBRMw_HllXt",
        "colab_type": "code",
        "colab": {
          "base_uri": "https://localhost:8080/",
          "height": 899
        },
        "outputId": "c8c6f604-9a72-484a-8cc8-ba39ee7cd425"
      },
      "source": [
        "plt.figure(figsize = (10,7))\n",
        "plt.plot(kdd99_history.history['accuracy'], color = 'blue')\n",
        "plt.plot(kdd99_history.history['val_accuracy'], color = 'red')\n",
        "plt.title('Model accuracy')\n",
        "plt.ylabel('Accuracy')\n",
        "plt.xlabel('Epoch')\n",
        "plt.legend(['Train', 'Validation'], loc='upper left')\n",
        "plt.show()\n",
        "\n",
        "plt.figure(figsize = (10,7))\n",
        "plt.plot(kdd99_history.history['loss'], color = 'blue')\n",
        "plt.plot(kdd99_history.history['val_loss'], color = 'red')\n",
        "plt.ylim((0,3))\n",
        "plt.title('Model loss')\n",
        "plt.ylabel('Loss')\n",
        "plt.xlabel('Epoch')\n",
        "plt.legend(['Train', 'Validation'], loc='upper left')\n",
        "plt.show()"
      ],
      "execution_count": 11,
      "outputs": [
        {
          "output_type": "display_data",
          "data": {
            "image/png": "[encoded data removed]",
            "text/plain": [
              "<Figure size 720x504 with 1 Axes>"
            ]
          },
          "metadata": {
            "tags": [],
            "needs_background": "light"
          }
        },
        {
          "output_type": "display_data",
          "data": {
            "image/png": "[encoded data removed]",
            "text/plain": [
              "<Figure size 720x504 with 1 Axes>"
            ]
          },
          "metadata": {
            "tags": [],
            "needs_background": "light"
          }
        }
      ]
    },
    {
      "cell_type": "code",
      "metadata": {
        "id": "uLi5ze0Slp1N",
        "colab_type": "code",
        "colab": {
          "base_uri": "https://localhost:8080/",
          "height": 51
        },
        "outputId": "1802a9ca-f9ea-4c78-cd6f-0776e8f2e28e"
      },
      "source": [
        "kdd99_test_acc = nn_kdd99.evaluate(x_test, y_test)[1]\n",
        "print('The test accuracy is', kdd99_test_acc)"
      ],
      "execution_count": 12,
      "outputs": [
        {
          "output_type": "stream",
          "text": [
            "1544/1544 [==============================] - 1s 971us/step - loss: 4.3799 - accuracy: 0.9903\n",
            "The test accuracy is 0.9903244972229004\n"
          ],
          "name": "stdout"
        }
      ]
    }
  ]
}